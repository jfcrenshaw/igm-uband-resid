{
 "cells": [
  {
   "cell_type": "markdown",
   "metadata": {},
   "source": [
    "Building Y1 and Y10 flux catalogs from the true magnitude catalog Melissa provided, and include galaxies with u non-detects"
   ]
  },
  {
   "cell_type": "code",
   "execution_count": 1,
   "metadata": {},
   "outputs": [],
   "source": [
    "import numpy as np\n",
    "import pandas as pd"
   ]
  },
  {
   "cell_type": "markdown",
   "metadata": {},
   "source": [
    "Load redshifts, and LSST & Euclid photometry from Melissa's catalog (data from Graham et al. 2020)"
   ]
  },
  {
   "cell_type": "code",
   "execution_count": 2,
   "metadata": {},
   "outputs": [
    {
     "data": {
      "text/html": [
       "<div>\n",
       "<style scoped>\n",
       "    .dataframe tbody tr th:only-of-type {\n",
       "        vertical-align: middle;\n",
       "    }\n",
       "\n",
       "    .dataframe tbody tr th {\n",
       "        vertical-align: top;\n",
       "    }\n",
       "\n",
       "    .dataframe thead th {\n",
       "        text-align: right;\n",
       "    }\n",
       "</style>\n",
       "<table border=\"1\" class=\"dataframe\">\n",
       "  <thead>\n",
       "    <tr style=\"text-align: right;\">\n",
       "      <th></th>\n",
       "      <th>redshift</th>\n",
       "      <th>u</th>\n",
       "      <th>g</th>\n",
       "      <th>r</th>\n",
       "      <th>i</th>\n",
       "      <th>z</th>\n",
       "      <th>y</th>\n",
       "      <th>ey</th>\n",
       "      <th>j</th>\n",
       "      <th>h</th>\n",
       "    </tr>\n",
       "  </thead>\n",
       "  <tbody>\n",
       "    <tr>\n",
       "      <th>0</th>\n",
       "      <td>0.482111</td>\n",
       "      <td>29.157028</td>\n",
       "      <td>27.892900</td>\n",
       "      <td>26.603275</td>\n",
       "      <td>26.161007</td>\n",
       "      <td>25.933044</td>\n",
       "      <td>25.861782</td>\n",
       "      <td>25.814444</td>\n",
       "      <td>25.705093</td>\n",
       "      <td>25.647633</td>\n",
       "    </tr>\n",
       "    <tr>\n",
       "      <th>1</th>\n",
       "      <td>0.434727</td>\n",
       "      <td>24.167173</td>\n",
       "      <td>23.890324</td>\n",
       "      <td>22.965734</td>\n",
       "      <td>22.787249</td>\n",
       "      <td>22.680405</td>\n",
       "      <td>22.651928</td>\n",
       "      <td>22.627203</td>\n",
       "      <td>22.559536</td>\n",
       "      <td>22.525684</td>\n",
       "    </tr>\n",
       "    <tr>\n",
       "      <th>2</th>\n",
       "      <td>0.685277</td>\n",
       "      <td>27.377748</td>\n",
       "      <td>27.311161</td>\n",
       "      <td>26.805290</td>\n",
       "      <td>26.192394</td>\n",
       "      <td>26.101276</td>\n",
       "      <td>26.065672</td>\n",
       "      <td>26.053532</td>\n",
       "      <td>26.010141</td>\n",
       "      <td>25.984528</td>\n",
       "    </tr>\n",
       "    <tr>\n",
       "      <th>3</th>\n",
       "      <td>2.130647</td>\n",
       "      <td>26.574268</td>\n",
       "      <td>25.750692</td>\n",
       "      <td>25.665314</td>\n",
       "      <td>25.619497</td>\n",
       "      <td>25.212278</td>\n",
       "      <td>24.992336</td>\n",
       "      <td>24.857283</td>\n",
       "      <td>23.889786</td>\n",
       "      <td>23.456930</td>\n",
       "    </tr>\n",
       "    <tr>\n",
       "      <th>4</th>\n",
       "      <td>1.435219</td>\n",
       "      <td>25.785080</td>\n",
       "      <td>25.924280</td>\n",
       "      <td>26.046255</td>\n",
       "      <td>26.039898</td>\n",
       "      <td>25.833124</td>\n",
       "      <td>25.507624</td>\n",
       "      <td>25.433859</td>\n",
       "      <td>25.413685</td>\n",
       "      <td>25.451563</td>\n",
       "    </tr>\n",
       "    <tr>\n",
       "      <th>...</th>\n",
       "      <td>...</td>\n",
       "      <td>...</td>\n",
       "      <td>...</td>\n",
       "      <td>...</td>\n",
       "      <td>...</td>\n",
       "      <td>...</td>\n",
       "      <td>...</td>\n",
       "      <td>...</td>\n",
       "      <td>...</td>\n",
       "      <td>...</td>\n",
       "    </tr>\n",
       "    <tr>\n",
       "      <th>673923</th>\n",
       "      <td>1.021447</td>\n",
       "      <td>26.684881</td>\n",
       "      <td>26.756145</td>\n",
       "      <td>26.666193</td>\n",
       "      <td>26.272614</td>\n",
       "      <td>25.753553</td>\n",
       "      <td>25.716536</td>\n",
       "      <td>25.708645</td>\n",
       "      <td>25.689688</td>\n",
       "      <td>25.683662</td>\n",
       "    </tr>\n",
       "    <tr>\n",
       "      <th>673924</th>\n",
       "      <td>1.780867</td>\n",
       "      <td>26.491035</td>\n",
       "      <td>26.187513</td>\n",
       "      <td>26.554558</td>\n",
       "      <td>26.197931</td>\n",
       "      <td>25.886168</td>\n",
       "      <td>25.731710</td>\n",
       "      <td>25.392494</td>\n",
       "      <td>24.762169</td>\n",
       "      <td>24.541735</td>\n",
       "    </tr>\n",
       "    <tr>\n",
       "      <th>673925</th>\n",
       "      <td>0.765696</td>\n",
       "      <td>27.766033</td>\n",
       "      <td>27.746386</td>\n",
       "      <td>27.442348</td>\n",
       "      <td>26.687435</td>\n",
       "      <td>26.593115</td>\n",
       "      <td>26.561619</td>\n",
       "      <td>26.550270</td>\n",
       "      <td>26.525892</td>\n",
       "      <td>26.511300</td>\n",
       "    </tr>\n",
       "    <tr>\n",
       "      <th>673926</th>\n",
       "      <td>0.779868</td>\n",
       "      <td>26.408838</td>\n",
       "      <td>26.373043</td>\n",
       "      <td>26.028341</td>\n",
       "      <td>25.250519</td>\n",
       "      <td>25.099152</td>\n",
       "      <td>25.049309</td>\n",
       "      <td>25.022396</td>\n",
       "      <td>24.953592</td>\n",
       "      <td>24.902025</td>\n",
       "    </tr>\n",
       "    <tr>\n",
       "      <th>673927</th>\n",
       "      <td>0.438847</td>\n",
       "      <td>22.179367</td>\n",
       "      <td>21.767246</td>\n",
       "      <td>20.790950</td>\n",
       "      <td>20.506868</td>\n",
       "      <td>20.311749</td>\n",
       "      <td>20.247978</td>\n",
       "      <td>20.192839</td>\n",
       "      <td>20.038767</td>\n",
       "      <td>19.950500</td>\n",
       "    </tr>\n",
       "  </tbody>\n",
       "</table>\n",
       "<p>673928 rows × 10 columns</p>\n",
       "</div>"
      ],
      "text/plain": [
       "        redshift          u          g          r          i          z  \\\n",
       "0       0.482111  29.157028  27.892900  26.603275  26.161007  25.933044   \n",
       "1       0.434727  24.167173  23.890324  22.965734  22.787249  22.680405   \n",
       "2       0.685277  27.377748  27.311161  26.805290  26.192394  26.101276   \n",
       "3       2.130647  26.574268  25.750692  25.665314  25.619497  25.212278   \n",
       "4       1.435219  25.785080  25.924280  26.046255  26.039898  25.833124   \n",
       "...          ...        ...        ...        ...        ...        ...   \n",
       "673923  1.021447  26.684881  26.756145  26.666193  26.272614  25.753553   \n",
       "673924  1.780867  26.491035  26.187513  26.554558  26.197931  25.886168   \n",
       "673925  0.765696  27.766033  27.746386  27.442348  26.687435  26.593115   \n",
       "673926  0.779868  26.408838  26.373043  26.028341  25.250519  25.099152   \n",
       "673927  0.438847  22.179367  21.767246  20.790950  20.506868  20.311749   \n",
       "\n",
       "                y         ey          j          h  \n",
       "0       25.861782  25.814444  25.705093  25.647633  \n",
       "1       22.651928  22.627203  22.559536  22.525684  \n",
       "2       26.065672  26.053532  26.010141  25.984528  \n",
       "3       24.992336  24.857283  23.889786  23.456930  \n",
       "4       25.507624  25.433859  25.413685  25.451563  \n",
       "...           ...        ...        ...        ...  \n",
       "673923  25.716536  25.708645  25.689688  25.683662  \n",
       "673924  25.731710  25.392494  24.762169  24.541735  \n",
       "673925  26.561619  26.550270  26.525892  26.511300  \n",
       "673926  25.049309  25.022396  24.953592  24.902025  \n",
       "673927  20.247978  20.192839  20.038767  19.950500  \n",
       "\n",
       "[673928 rows x 10 columns]"
      ]
     },
     "execution_count": 2,
     "metadata": {},
     "output_type": "execute_result"
    }
   ],
   "source": [
    "# load the truth catalog for Y10\n",
    "truth_catalog = pd.read_csv(\n",
    "    \"catalogs/Euclid_trim_27p10_3p5_IR_4NUV.dat\", # i<27.1, redshift<3.5\n",
    "    delim_whitespace=True, comment='#', nrows=None, header=None,\n",
    "    usecols=[i for i in range(1,11)],\n",
    "    names=[\n",
    "        \"redshift\", # truth\n",
    "        \"u\", \"g\", \"r\", \"i\", \"z\", \"y\", # LSST\n",
    "        \"ey\", \"j\", \"h\", # Euclid\n",
    "    ]\n",
    ")\n",
    "truth_catalog"
   ]
  },
  {
   "cell_type": "markdown",
   "metadata": {},
   "source": [
    "Calculate the photometric errors using the LSST Error Model (Ivezic et al. 2019).  \n",
    "Note we follow Graham et al. 2020 in using the same model for Euclid errors, with the parameters given therein."
   ]
  },
  {
   "cell_type": "code",
   "execution_count": 3,
   "metadata": {},
   "outputs": [],
   "source": [
    "# 5-sigma limiting mags for LSST Y1\n",
    "# plus Euclid (idk what year)\n",
    "m5_y1 = np.array([\n",
    "    24.84, # u\n",
    "    26.13, # g\n",
    "    26.28, # r\n",
    "    25.58, # i\n",
    "    24.81, # z\n",
    "    23.61, # y\n",
    "    24.0, # ey\n",
    "    24.2, # j\n",
    "    23.9, # h\n",
    "])\n",
    "\n",
    "# 5-sigma limiting mags for LSST Y10\n",
    "# plus Euclid (idk what year)\n",
    "m5_y10 = np.array([\n",
    "    26.09, # u\n",
    "    27.38, # g\n",
    "    27.53, # r\n",
    "    26.83, # i\n",
    "    26.06, # z\n",
    "    24.86, # y\n",
    "    24.0, # ey\n",
    "    24.2, # j\n",
    "    23.9, # h\n",
    "])\n",
    "\n",
    "# gamma parameter for error model\n",
    "# set to 0.04 for Euclid bc no atmosphere\n",
    "gamma = np.array([\n",
    "    0.038, # u\n",
    "    0.039, # g\n",
    "    0.039, # r\n",
    "    0.039, # i\n",
    "    0.039, # z\n",
    "    0.039, # y\n",
    "    0.04, # ey\n",
    "    0.04, # j\n",
    "    0.04, # h\n",
    "])"
   ]
  },
  {
   "cell_type": "code",
   "execution_count": 4,
   "metadata": {},
   "outputs": [],
   "source": [
    "def photometric_errs(catalog, m5, gamma, seed=0):\n",
    "    \n",
    "    # pull out the redshifts\n",
    "    redshifts = catalog.values[:, 0]\n",
    "    \n",
    "    # calculate mag errs\n",
    "    mags = catalog.values[:, 1:]\n",
    "    x = 10 ** (0.4 * (mags - m5))\n",
    "    mag_errs = np.clip(np.sqrt((0.04 - gamma) * x + gamma * x**2), 0.005, None)\n",
    "    \n",
    "    # make a cut on true SNR\n",
    "    SNR = 1\n",
    "    idx = np.where(((2.5 / np.log(10)) * 1 / mag_errs > SNR).all(axis=1))\n",
    "    redshifts, mags, mag_errs = redshifts[idx], mags[idx], mag_errs[idx]\n",
    "    \n",
    "    # convert mags and mag errs to fluxes and flux errs\n",
    "    fluxes = 10 ** (mags / -2.5)\n",
    "    flux_errs = np.log(10) / 2.5 * fluxes * mag_errs\n",
    "    \n",
    "    # add Gaussian noise to fluxes\n",
    "    rng = np.random.default_rng(seed)\n",
    "    fluxes = rng.normal(fluxes, flux_errs)\n",
    "    \n",
    "    # cut galaxies with negative fluxes in grizy\n",
    "    idx = np.where((fluxes[:, 1:] > 0).all(axis=1))\n",
    "    fluxes, flux_errs, redshifts = fluxes[idx], flux_errs[idx], redshifts[idx]\n",
    "    \n",
    "    # convert fluxes to magnitudes\n",
    "    mags = -2.5 * np.log10(fluxes)\n",
    "    \n",
    "    # re-estimate the photometric errors\n",
    "    # (the true errors provide a deterministic link to the true mags)\n",
    "    x = 10 ** (0.4 * (mags - m5))\n",
    "    mag_errs = np.clip(np.sqrt((0.04 - gamma) * x + gamma * x**2), 0.005, None)\n",
    "    \n",
    "    # apply 5-sigma limit to the i band\n",
    "    idx = np.where(mags[:, 3] < m5[3])\n",
    "    mags, mag_errs, redshifts = mags[idx], mag_errs[idx], redshifts[idx]\n",
    "    \n",
    "    # generate a new catalog\n",
    "    new_catalog = pd.DataFrame(\n",
    "        np.hstack((\n",
    "            redshifts.reshape(-1, 1),\n",
    "            mags,\n",
    "            mag_errs,\n",
    "        )),\n",
    "        columns=(\n",
    "            catalog.columns.tolist() + \n",
    "            [col+\"_err\" for col in catalog.columns.tolist()[1:]]\n",
    "        ),\n",
    "    )\n",
    "    \n",
    "    return new_catalog"
   ]
  },
  {
   "cell_type": "code",
   "execution_count": 5,
   "metadata": {},
   "outputs": [
    {
     "name": "stderr",
     "output_type": "stream",
     "text": [
      "<ipython-input-4-56823f035373>:29: RuntimeWarning: invalid value encountered in log10\n",
      "  mags = -2.5 * np.log10(fluxes)\n"
     ]
    }
   ],
   "source": [
    "y1_catalog_w_u_nodetects = photometric_errs(truth_catalog, m5_y1, gamma)\n",
    "y10_catalog_w_u_nodetects = photometric_errs(truth_catalog, m5_y10, gamma)"
   ]
  },
  {
   "cell_type": "markdown",
   "metadata": {},
   "source": [
    "Now just save the catalogs"
   ]
  },
  {
   "cell_type": "code",
   "execution_count": 6,
   "metadata": {},
   "outputs": [],
   "source": [
    "y1_catalog_w_u_nodetects.to_pickle(\"catalogs/y1_catalog_w_u_nondetects.pkl\")\n",
    "y10_catalog_w_u_nodetects.to_pickle(\"catalogs/y10_catalog_w_u_nondetects.pkl\")"
   ]
  },
  {
   "cell_type": "markdown",
   "metadata": {},
   "source": [
    "Let's plot the redshift distributions of galaxies with u nondetections"
   ]
  },
  {
   "cell_type": "code",
   "execution_count": 7,
   "metadata": {},
   "outputs": [],
   "source": [
    "import matplotlib.pyplot as plt"
   ]
  },
  {
   "cell_type": "code",
   "execution_count": 8,
   "metadata": {},
   "outputs": [
    {
     "data": {
      "image/png": "[encoded data removed]",
      "text/plain": [
       "<Figure size 600x360 with 1 Axes>"
      ]
     },
     "metadata": {
      "needs_background": "light"
     },
     "output_type": "display_data"
    }
   ],
   "source": [
    "fig, ax = plt.subplots(figsize=(5,3), dpi=120)\n",
    "ax.hist(y1_catalog_w_u_nodetects[np.isnan(y1_catalog_w_u_nodetects[\"u\"])][\"redshift\"], bins=20)\n",
    "ax.set(xlabel=\"redshift\", title=\"Redshifts of u band non-detects\")\n",
    "plt.show()"
   ]
  },
  {
   "cell_type": "code",
   "execution_count": 9,
   "metadata": {},
   "outputs": [
    {
     "data": {
      "image/png": "[encoded data removed]",
      "text/plain": [
       "<Figure size 600x360 with 1 Axes>"
      ]
     },
     "metadata": {
      "needs_background": "light"
     },
     "output_type": "display_data"
    }
   ],
   "source": [
    "fig, ax = plt.subplots(figsize=(5,3), dpi=120)\n",
    "ax.hist(y10_catalog_w_u_nodetects[np.isnan(y10_catalog_w_u_nodetects[\"u\"])][\"redshift\"], bins=20)\n",
    "ax.set(xlabel=\"redshift\", title=\"Redshifts of u band non-detects\")\n",
    "plt.show()"
   ]
  },
  {
   "cell_type": "code",
   "execution_count": null,
   "metadata": {},
   "outputs": [],
   "source": []
  }
 ],
 "metadata": {
  "kernelspec": {
   "display_name": "Python 3.9.1 64-bit ('pzflow': conda)",
   "language": "python",
   "name": "python391jvsc74a57bd0ddb71c8dc1ffef2557a2c9d44be5bf38b52fc98479b572e5007cdf63195ae033"
  },
  "language_info": {
   "codemirror_mode": {
    "name": "ipython",
    "version": 3
   },
   "file_extension": ".py",
   "mimetype": "text/x-python",
   "name": "python",
   "nbconvert_exporter": "python",
   "pygments_lexer": "ipython3",
   "version": "3.9.1"
  }
 },
 "nbformat": 4,
 "nbformat_minor": 4
}
